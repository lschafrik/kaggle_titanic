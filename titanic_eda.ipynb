{
 "cells": [
  {
   "cell_type": "code",
   "execution_count": 1,
   "metadata": {},
   "outputs": [],
   "source": [
    "import numpy as np\n",
    "import pandas as pd\n",
    "\n",
    "pd.set_option('display.max_columns', None)"
   ]
  },
  {
   "cell_type": "code",
   "execution_count": 2,
   "metadata": {},
   "outputs": [],
   "source": [
    "import matplotlib.pyplot as plt\n",
    "%matplotlib inline\n",
    "plt.style.use('ggplot')\n",
    "\n",
    "import seaborn as sns"
   ]
  },
  {
   "cell_type": "code",
   "execution_count": 3,
   "metadata": {},
   "outputs": [],
   "source": [
    "from sklearn.linear_model import LinearRegression, Ridge, Lasso\n",
    "from sklearn.ensemble import RandomForestRegressor, AdaBoostRegressor, GradientBoostingRegressor\n",
    "\n",
    "from sklearn.model_selection import GridSearchCV\n",
    "from sklearn.model_selection import cross_val_score\n",
    "from sklearn.model_selection import train_test_split\n",
    "\n",
    "from sklearn.preprocessing import MinMaxScaler"
   ]
  },
  {
   "cell_type": "code",
   "execution_count": 100,
   "metadata": {},
   "outputs": [],
   "source": [
    "titanic_train = pd.read_csv('data/train.csv')"
   ]
  },
  {
   "cell_type": "code",
   "execution_count": 101,
   "metadata": {},
   "outputs": [
    {
     "data": {
      "text/plain": [
       "(891, 12)"
      ]
     },
     "execution_count": 101,
     "metadata": {},
     "output_type": "execute_result"
    }
   ],
   "source": [
    "titanic_train.shape"
   ]
  },
  {
   "cell_type": "markdown",
   "metadata": {},
   "source": [
    "## Functions\n",
    "***"
   ]
  },
  {
   "cell_type": "code",
   "execution_count": 102,
   "metadata": {},
   "outputs": [],
   "source": [
    "def fill_nulls(df, min_limit=0.20, max_limit=0.75):\n",
    "    # Create empty dictionary to enter column names, null percentage, and filled status\n",
    "    result = dict()\n",
    "    \n",
    "    # Get column name and null percentage from 'df' argument if null percentage exists\n",
    "    null_cols = [[col, round(df[col].isnull().sum()/df.shape[0],3)]\n",
    "                 for col in df.columns\n",
    "                 if df[col].isnull().sum() > 0]\n",
    "    \n",
    "    for col in null_cols:\n",
    "        # If null percentage higher than/equal to max limit, drop column from df\n",
    "        if col[1] >= max_limit:\n",
    "            result[col[0]] = {'Filled': False, \n",
    "                              'Dropped':True, \n",
    "                              'Null_Percentage': col[1]}\n",
    "            df.drop(columns=col[0], inplace=True)\n",
    "            \n",
    "        # If null percentage higher than/equal to min_limit argument, enter into dictionary w/ 'Filled':False\n",
    "        elif col[1] >= min_limit:    \n",
    "            result[col[0]] = {'Filled': False, \n",
    "                              'Dropped':False, \n",
    "                              'Null_Percentage': col[1]}\n",
    "            \n",
    "        # If null percentage lower than limit argument, enter into dictionary w/ 'Filled':True, filled type & value\n",
    "        elif col[1] < min_limit: \n",
    "            if df[col[0]].dtypes in ['float', 'int']:\n",
    "                df[col[0]].fillna(df[col[0]].dropna().median(), inplace=True)\n",
    "                result[col[0]] = {'Filled': True, \n",
    "                                  'Type': 'Median', \n",
    "                                  'Fill_Value':df[col[0]].dropna().median(), \n",
    "                                  'Null_Percentage': col[1]}\n",
    "            else:\n",
    "                df[col[0]].fillna(df[col[0]].dropna().mode()[0], inplace=True)\n",
    "                result[col[0]] = {'Filled': True, \n",
    "                                  'Type': 'Mode', \n",
    "                                  'Fill_Value':df[col[0]].dropna().mode()[0], \n",
    "                                  'Null_Percentage': col[1]}\n",
    "                \n",
    "    # Return dictionary result (although could be pandas dataframe...?)        \n",
    "    return result"
   ]
  },
  {
   "cell_type": "code",
   "execution_count": 103,
   "metadata": {},
   "outputs": [],
   "source": [
    "def name_to_title(df):\n",
    "    # Use list of unique titles in Name column to determine accepted titles\n",
    "    accepted_titles = {'Mr':0, 'Master':1, 'Sir'2:, 'Mrs'3:, 'Ms':4, 'Lady':5}\n",
    "    \n",
    "    # Get titles for each row\n",
    "    raw_titles = df['Name'].map(lambda x: x.split(', ')[1].split('. ')[0])\n",
    "    \n",
    "    # Search for and replace unaccepted titles based on gender\n",
    "    for idx, title in enumerate(raw_titles):\n",
    "        if title not in accepted_titles:\n",
    "            if df.iloc[idx]['Sex'] == 0:\n",
    "                raw_titles[idx] = 'Ms'\n",
    "            else:\n",
    "                raw_titles[idx] = 'Mr'\n",
    "                \n",
    "    # Create Title column and drop Name column\n",
    "    df['Title'] = raw_titles\n",
    "    df.drop(columns='Name', inplace=True)\n",
    "    \n",
    "    # Return new, cleaned df\n",
    "    return df"
   ]
  },
  {
   "cell_type": "markdown",
   "metadata": {},
   "source": [
    "## EDA / Cleaning\n",
    "***\n",
    "- Age, Cabin, and Embarked contain NaN values\n",
    "    - Use function to fill NaN values below specified percentage (if NaN percentage is below .2, fill; if above .75, remove column)\n",
    "        - Age (177) - 20%\n",
    "        - Cabin (687) - 77%\n",
    "        - Embarked (2) - 0.2%\n",
    "    - Age and Embarked filled; Cabin removed\n",
    "- Create dummy variables with Embarked\n",
    "- Change Sex to 1/0\n",
    "- Possibly remove PassengerId and Ticket\n",
    "- Change Name to Titles for simpler predictions"
   ]
  },
  {
   "cell_type": "code",
   "execution_count": 104,
   "metadata": {},
   "outputs": [
    {
     "name": "stdout",
     "output_type": "stream",
     "text": [
      "Null Value Count:\n",
      "--------------\n",
      " PassengerId      0\n",
      "Survived         0\n",
      "Pclass           0\n",
      "Name             0\n",
      "Sex              0\n",
      "Age            177\n",
      "SibSp            0\n",
      "Parch            0\n",
      "Ticket           0\n",
      "Fare             0\n",
      "Cabin          687\n",
      "Embarked         2\n",
      "dtype: int64\n",
      "_______________________\n",
      "\n",
      "DTypes:\n",
      "--------------\n",
      " PassengerId      int64\n",
      "Survived         int64\n",
      "Pclass           int64\n",
      "Name            object\n",
      "Sex             object\n",
      "Age            float64\n",
      "SibSp            int64\n",
      "Parch            int64\n",
      "Ticket          object\n",
      "Fare           float64\n",
      "Cabin           object\n",
      "Embarked        object\n",
      "dtype: object\n"
     ]
    }
   ],
   "source": [
    "print('Null Value Count:\\n--------------\\n', titanic_train.isnull().sum())\n",
    "print('_______________________\\n')\n",
    "print('DTypes:\\n--------------\\n', titanic_train.dtypes)"
   ]
  },
  {
   "cell_type": "code",
   "execution_count": 105,
   "metadata": {
    "scrolled": true
   },
   "outputs": [],
   "source": [
    "# Fill null values if null percentage is below limit (here, limit is .2)\n",
    "# Could go into more detail with Name column, but filling null values with median value is acceptable\n",
    "autofill_null_vals = fill_nulls(titanic_train)"
   ]
  },
  {
   "cell_type": "code",
   "execution_count": 106,
   "metadata": {},
   "outputs": [
    {
     "name": "stdout",
     "output_type": "stream",
     "text": [
      "Age {'Filled': True, 'Type': 'Median', 'Fill_Value': 28.0, 'Null_Percentage': 0.199}\n",
      "Cabin {'Filled': False, 'Dropped': True, 'Null_Percentage': 0.771}\n",
      "Embarked {'Filled': True, 'Type': 'Mode', 'Fill_Value': 'S', 'Null_Percentage': 0.002}\n"
     ]
    }
   ],
   "source": [
    "for k, v in autofill_null_vals.items():\n",
    "    print(k, v)"
   ]
  },
  {
   "cell_type": "code",
   "execution_count": 107,
   "metadata": {},
   "outputs": [],
   "source": [
    "# Turn Sex into bool values, and turn Embarked into dummy variables\n",
    "titanic_train['Sex'] = titanic_train['Sex'].map(lambda x: 0 if x == 'female' else 1)\n",
    "\n",
    "embarked_dummies = pd.get_dummies(titanic_train['Embarked'], drop_first=True, prefix='Embarked_')\n",
    "titanic_train = pd.concat([titanic_train, embarked_dummies], axis=1)"
   ]
  },
  {
   "cell_type": "code",
   "execution_count": 108,
   "metadata": {},
   "outputs": [],
   "source": [
    "# Drop unnecessary columns - ['PassengerId', 'Ticket', 'Embarked']\n",
    "titanic_train.drop(columns=['PassengerId', 'Ticket', 'Embarked'], inplace=True)"
   ]
  },
  {
   "cell_type": "code",
   "execution_count": 109,
   "metadata": {
    "scrolled": true
   },
   "outputs": [
    {
     "data": {
      "text/html": [
       "<div>\n",
       "<style scoped>\n",
       "    .dataframe tbody tr th:only-of-type {\n",
       "        vertical-align: middle;\n",
       "    }\n",
       "\n",
       "    .dataframe tbody tr th {\n",
       "        vertical-align: top;\n",
       "    }\n",
       "\n",
       "    .dataframe thead th {\n",
       "        text-align: right;\n",
       "    }\n",
       "</style>\n",
       "<table border=\"1\" class=\"dataframe\">\n",
       "  <thead>\n",
       "    <tr style=\"text-align: right;\">\n",
       "      <th></th>\n",
       "      <th>Survived</th>\n",
       "      <th>Pclass</th>\n",
       "      <th>Name</th>\n",
       "      <th>Sex</th>\n",
       "      <th>Age</th>\n",
       "      <th>SibSp</th>\n",
       "      <th>Parch</th>\n",
       "      <th>Fare</th>\n",
       "      <th>Embarked__Q</th>\n",
       "      <th>Embarked__S</th>\n",
       "    </tr>\n",
       "  </thead>\n",
       "  <tbody>\n",
       "    <tr>\n",
       "      <th>0</th>\n",
       "      <td>0</td>\n",
       "      <td>3</td>\n",
       "      <td>Braund, Mr. Owen Harris</td>\n",
       "      <td>1</td>\n",
       "      <td>22.0</td>\n",
       "      <td>1</td>\n",
       "      <td>0</td>\n",
       "      <td>7.2500</td>\n",
       "      <td>0</td>\n",
       "      <td>1</td>\n",
       "    </tr>\n",
       "    <tr>\n",
       "      <th>1</th>\n",
       "      <td>1</td>\n",
       "      <td>1</td>\n",
       "      <td>Cumings, Mrs. John Bradley (Florence Briggs Th...</td>\n",
       "      <td>0</td>\n",
       "      <td>38.0</td>\n",
       "      <td>1</td>\n",
       "      <td>0</td>\n",
       "      <td>71.2833</td>\n",
       "      <td>0</td>\n",
       "      <td>0</td>\n",
       "    </tr>\n",
       "    <tr>\n",
       "      <th>2</th>\n",
       "      <td>1</td>\n",
       "      <td>3</td>\n",
       "      <td>Heikkinen, Miss. Laina</td>\n",
       "      <td>0</td>\n",
       "      <td>26.0</td>\n",
       "      <td>0</td>\n",
       "      <td>0</td>\n",
       "      <td>7.9250</td>\n",
       "      <td>0</td>\n",
       "      <td>1</td>\n",
       "    </tr>\n",
       "  </tbody>\n",
       "</table>\n",
       "</div>"
      ],
      "text/plain": [
       "   Survived  Pclass                                               Name  Sex  \\\n",
       "0         0       3                            Braund, Mr. Owen Harris    1   \n",
       "1         1       1  Cumings, Mrs. John Bradley (Florence Briggs Th...    0   \n",
       "2         1       3                             Heikkinen, Miss. Laina    0   \n",
       "\n",
       "    Age  SibSp  Parch     Fare  Embarked__Q  Embarked__S  \n",
       "0  22.0      1      0   7.2500            0            1  \n",
       "1  38.0      1      0  71.2833            0            0  \n",
       "2  26.0      0      0   7.9250            0            1  "
      ]
     },
     "execution_count": 109,
     "metadata": {},
     "output_type": "execute_result"
    }
   ],
   "source": [
    "titanic_train.head(3)"
   ]
  },
  {
   "cell_type": "code",
   "execution_count": 110,
   "metadata": {},
   "outputs": [],
   "source": [
    "titanic_clean = name_to_title(titanic_train)"
   ]
  },
  {
   "cell_type": "code",
   "execution_count": 111,
   "metadata": {},
   "outputs": [
    {
     "data": {
      "text/plain": [
       "array(['Mr', 'Mrs', 'Ms', 'Master', 'Lady', 'Sir'], dtype=object)"
      ]
     },
     "execution_count": 111,
     "metadata": {},
     "output_type": "execute_result"
    }
   ],
   "source": [
    "titanic_clean['Title'].unique()"
   ]
  },
  {
   "cell_type": "code",
   "execution_count": null,
   "metadata": {},
   "outputs": [],
   "source": []
  }
 ],
 "metadata": {
  "kernelspec": {
   "display_name": "Python 3",
   "language": "python",
   "name": "python3"
  },
  "language_info": {
   "codemirror_mode": {
    "name": "ipython",
    "version": 3
   },
   "file_extension": ".py",
   "mimetype": "text/x-python",
   "name": "python",
   "nbconvert_exporter": "python",
   "pygments_lexer": "ipython3",
   "version": "3.7.6"
  }
 },
 "nbformat": 4,
 "nbformat_minor": 4
}
