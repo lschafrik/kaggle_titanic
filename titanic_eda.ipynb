{
 "cells": [
  {
   "cell_type": "code",
   "execution_count": 1,
   "metadata": {},
   "outputs": [],
   "source": [
    "import numpy as np\n",
    "import pandas as pd\n",
    "\n",
    "pd.set_option('display.max_columns', None)"
   ]
  },
  {
   "cell_type": "code",
   "execution_count": 2,
   "metadata": {},
   "outputs": [],
   "source": [
    "import matplotlib.pyplot as plt\n",
    "%matplotlib inline\n",
    "plt.style.use('ggplot')\n",
    "\n",
    "import seaborn as sns"
   ]
  },
  {
   "cell_type": "code",
   "execution_count": 57,
   "metadata": {},
   "outputs": [],
   "source": [
    "titanic_train = pd.read_csv('data/train.csv')"
   ]
  },
  {
   "cell_type": "code",
   "execution_count": 58,
   "metadata": {},
   "outputs": [
    {
     "name": "stdout",
     "output_type": "stream",
     "text": [
      "(891, 12)\n"
     ]
    },
    {
     "data": {
      "text/html": [
       "<div>\n",
       "<style scoped>\n",
       "    .dataframe tbody tr th:only-of-type {\n",
       "        vertical-align: middle;\n",
       "    }\n",
       "\n",
       "    .dataframe tbody tr th {\n",
       "        vertical-align: top;\n",
       "    }\n",
       "\n",
       "    .dataframe thead th {\n",
       "        text-align: right;\n",
       "    }\n",
       "</style>\n",
       "<table border=\"1\" class=\"dataframe\">\n",
       "  <thead>\n",
       "    <tr style=\"text-align: right;\">\n",
       "      <th></th>\n",
       "      <th>PassengerId</th>\n",
       "      <th>Survived</th>\n",
       "      <th>Pclass</th>\n",
       "      <th>Name</th>\n",
       "      <th>Sex</th>\n",
       "      <th>Age</th>\n",
       "      <th>SibSp</th>\n",
       "      <th>Parch</th>\n",
       "      <th>Ticket</th>\n",
       "      <th>Fare</th>\n",
       "      <th>Cabin</th>\n",
       "      <th>Embarked</th>\n",
       "    </tr>\n",
       "  </thead>\n",
       "  <tbody>\n",
       "    <tr>\n",
       "      <th>0</th>\n",
       "      <td>1</td>\n",
       "      <td>0</td>\n",
       "      <td>3</td>\n",
       "      <td>Braund, Mr. Owen Harris</td>\n",
       "      <td>male</td>\n",
       "      <td>22.0</td>\n",
       "      <td>1</td>\n",
       "      <td>0</td>\n",
       "      <td>A/5 21171</td>\n",
       "      <td>7.2500</td>\n",
       "      <td>NaN</td>\n",
       "      <td>S</td>\n",
       "    </tr>\n",
       "    <tr>\n",
       "      <th>1</th>\n",
       "      <td>2</td>\n",
       "      <td>1</td>\n",
       "      <td>1</td>\n",
       "      <td>Cumings, Mrs. John Bradley (Florence Briggs Th...</td>\n",
       "      <td>female</td>\n",
       "      <td>38.0</td>\n",
       "      <td>1</td>\n",
       "      <td>0</td>\n",
       "      <td>PC 17599</td>\n",
       "      <td>71.2833</td>\n",
       "      <td>C85</td>\n",
       "      <td>C</td>\n",
       "    </tr>\n",
       "    <tr>\n",
       "      <th>2</th>\n",
       "      <td>3</td>\n",
       "      <td>1</td>\n",
       "      <td>3</td>\n",
       "      <td>Heikkinen, Miss. Laina</td>\n",
       "      <td>female</td>\n",
       "      <td>26.0</td>\n",
       "      <td>0</td>\n",
       "      <td>0</td>\n",
       "      <td>STON/O2. 3101282</td>\n",
       "      <td>7.9250</td>\n",
       "      <td>NaN</td>\n",
       "      <td>S</td>\n",
       "    </tr>\n",
       "  </tbody>\n",
       "</table>\n",
       "</div>"
      ],
      "text/plain": [
       "   PassengerId  Survived  Pclass  \\\n",
       "0            1         0       3   \n",
       "1            2         1       1   \n",
       "2            3         1       3   \n",
       "\n",
       "                                                Name     Sex   Age  SibSp  \\\n",
       "0                            Braund, Mr. Owen Harris    male  22.0      1   \n",
       "1  Cumings, Mrs. John Bradley (Florence Briggs Th...  female  38.0      1   \n",
       "2                             Heikkinen, Miss. Laina  female  26.0      0   \n",
       "\n",
       "   Parch            Ticket     Fare Cabin Embarked  \n",
       "0      0         A/5 21171   7.2500   NaN        S  \n",
       "1      0          PC 17599  71.2833   C85        C  \n",
       "2      0  STON/O2. 3101282   7.9250   NaN        S  "
      ]
     },
     "execution_count": 58,
     "metadata": {},
     "output_type": "execute_result"
    }
   ],
   "source": [
    "print(titanic_train.shape)\n",
    "titanic_train.head(3)"
   ]
  },
  {
   "cell_type": "markdown",
   "metadata": {},
   "source": [
    "## Functions\n",
    "***"
   ]
  },
  {
   "cell_type": "code",
   "execution_count": 59,
   "metadata": {},
   "outputs": [],
   "source": [
    "def fill_nulls(df, min_limit=0.20, max_limit=0.75):\n",
    "    # Create empty dictionary to enter column names, null percentage, and filled status\n",
    "    result = dict()\n",
    "    \n",
    "    # Get column name and null percentage from 'df' argument if null percentage exists\n",
    "    null_cols = [[col, round(df[col].isnull().sum()/df.shape[0],3)]\n",
    "                 for col in df.columns\n",
    "                 if df[col].isnull().sum() > 0]\n",
    "    \n",
    "    for col in null_cols:\n",
    "        # If null percentage higher than/equal to max limit, drop column from df\n",
    "        if col[1] >= max_limit:\n",
    "            result[col[0]] = {'Filled': False, \n",
    "                              'Dropped':True, \n",
    "                              'Null_Percentage': col[1]}\n",
    "            df.drop(columns=col[0], inplace=True)\n",
    "            \n",
    "        # If null percentage higher than/equal to min_limit argument, enter into dictionary w/ 'Filled':False\n",
    "        elif col[1] >= min_limit:    \n",
    "            result[col[0]] = {'Filled': False, \n",
    "                              'Dropped':False, \n",
    "                              'Null_Percentage': col[1]}\n",
    "            \n",
    "        # If null percentage lower than limit argument, enter into dictionary w/ 'Filled':True, filled type & value\n",
    "        elif col[1] < min_limit: \n",
    "            if df[col[0]].dtypes in ['float', 'int']:\n",
    "                df[col[0]].fillna(df[col[0]].dropna().median(), inplace=True)\n",
    "                result[col[0]] = {'Filled': True, \n",
    "                                  'Type': 'Median', \n",
    "                                  'Fill_Value':df[col[0]].dropna().median(), \n",
    "                                  'Null_Percentage': col[1]}\n",
    "            else:\n",
    "                df[col[0]].fillna(df[col[0]].dropna().mode()[0], inplace=True)\n",
    "                result[col[0]] = {'Filled': True, \n",
    "                                  'Type': 'Mode', \n",
    "                                  'Fill_Value':df[col[0]].dropna().mode()[0], \n",
    "                                  'Null_Percentage': col[1]}\n",
    "                \n",
    "    # Return dictionary result (although could be pandas dataframe...?)        \n",
    "    return result"
   ]
  },
  {
   "cell_type": "code",
   "execution_count": 60,
   "metadata": {},
   "outputs": [],
   "source": [
    "def name_to_title(df):\n",
    "    # Use list of unique titles in Name column to determine accepted titles\n",
    "    accepted_titles = ['Mr', 'Master', 'Sir', 'Mrs', 'Ms', 'Lady']\n",
    "    \n",
    "    # Get titles for each row\n",
    "    raw_titles = df['Name'].map(lambda x: x.split(', ')[1].split('. ')[0])\n",
    "    \n",
    "    # Search for and replace unaccepted titles based on gender\n",
    "    for idx, title in enumerate(raw_titles):\n",
    "        if title not in accepted_titles:\n",
    "            if df.iloc[idx]['Sex'] == 0:\n",
    "                raw_titles[idx] = 'Ms'\n",
    "            else:\n",
    "                raw_titles[idx] = 'Mr'\n",
    "                \n",
    "    # Create Title dummies and drop Name column\n",
    "    df.drop(columns='Name', inplace=True)\n",
    "    title_dummies = pd.get_dummies(raw_titles, drop_first=True, prefix='Title_')\n",
    "    \n",
    "    # Concatenate and return df & title_dummies\n",
    "    return pd.concat([df, title_dummies], axis=1)"
   ]
  },
  {
   "cell_type": "code",
   "execution_count": 61,
   "metadata": {},
   "outputs": [],
   "source": [
    "def clean_data(df):\n",
    "    # Fill NaN values if null percentage is below min_limit (0.2); drop if above max_limit(0.75)\n",
    "    fill_null = fill_nulls(df)\n",
    "    \n",
    "    # Turn Sex into bool, and Embarked into dummy var\n",
    "    df['Sex'] = df['Sex'].map(lambda x: 0 if x == 'female' else 1)\n",
    "    \n",
    "    embarked_dummies = pd.get_dummies(df['Embarked'], drop_first=True, prefix='Embarked_')\n",
    "    df = pd.concat([df, embarked_dummies], axis=1)\n",
    "    \n",
    "    # Drop unnecessary columns - ['PassengerId', 'Ticket', 'Embarked']\n",
    "    df.drop(columns=['PassengerId', 'Ticket', 'Embarked'], inplace=True)\n",
    "    \n",
    "    # Finish cleaning data by transforming Name column to Title dummies\n",
    "    df_clean = name_to_title(df)\n",
    "    \n",
    "    return fill_null, df_clean"
   ]
  },
  {
   "cell_type": "markdown",
   "metadata": {},
   "source": [
    "## Cleaning\n",
    "***\n",
    "- Age, Cabin, and Embarked contain NaN values\n",
    "    - Use function to fill NaN values below specified percentage (if NaN percentage is below .2, fill; if above .75, remove column)\n",
    "        - Age (177) - 20%\n",
    "        - Cabin (687) - 77%\n",
    "        - Embarked (2) - 0.2%\n",
    "    - Age and Embarked filled; Cabin removed\n",
    "- Create dummy variables with Embarked\n",
    "- Change Sex to 1/0\n",
    "- Possibly remove PassengerId and Ticket\n",
    "- Change Name to Titles for simpler predictions"
   ]
  },
  {
   "cell_type": "code",
   "execution_count": 62,
   "metadata": {
    "scrolled": true
   },
   "outputs": [],
   "source": [
    "nulls, df = clean_data(titanic_train)"
   ]
  },
  {
   "cell_type": "code",
   "execution_count": 63,
   "metadata": {},
   "outputs": [
    {
     "name": "stdout",
     "output_type": "stream",
     "text": [
      "Age {'Filled': True, 'Type': 'Median', 'Fill_Value': 28.0, 'Null_Percentage': 0.199}\n",
      "Cabin {'Filled': False, 'Dropped': True, 'Null_Percentage': 0.771}\n",
      "Embarked {'Filled': True, 'Type': 'Mode', 'Fill_Value': 'S', 'Null_Percentage': 0.002}\n"
     ]
    }
   ],
   "source": [
    "for k, v in nulls.items():\n",
    "    print(k, v)"
   ]
  },
  {
   "cell_type": "code",
   "execution_count": 64,
   "metadata": {},
   "outputs": [
    {
     "name": "stdout",
     "output_type": "stream",
     "text": [
      "(891, 14)\n"
     ]
    },
    {
     "data": {
      "text/html": [
       "<div>\n",
       "<style scoped>\n",
       "    .dataframe tbody tr th:only-of-type {\n",
       "        vertical-align: middle;\n",
       "    }\n",
       "\n",
       "    .dataframe tbody tr th {\n",
       "        vertical-align: top;\n",
       "    }\n",
       "\n",
       "    .dataframe thead th {\n",
       "        text-align: right;\n",
       "    }\n",
       "</style>\n",
       "<table border=\"1\" class=\"dataframe\">\n",
       "  <thead>\n",
       "    <tr style=\"text-align: right;\">\n",
       "      <th></th>\n",
       "      <th>Survived</th>\n",
       "      <th>Pclass</th>\n",
       "      <th>Sex</th>\n",
       "      <th>Age</th>\n",
       "      <th>SibSp</th>\n",
       "      <th>Parch</th>\n",
       "      <th>Fare</th>\n",
       "      <th>Embarked__Q</th>\n",
       "      <th>Embarked__S</th>\n",
       "      <th>Title__Master</th>\n",
       "      <th>Title__Mr</th>\n",
       "      <th>Title__Mrs</th>\n",
       "      <th>Title__Ms</th>\n",
       "      <th>Title__Sir</th>\n",
       "    </tr>\n",
       "  </thead>\n",
       "  <tbody>\n",
       "    <tr>\n",
       "      <th>0</th>\n",
       "      <td>0</td>\n",
       "      <td>3</td>\n",
       "      <td>1</td>\n",
       "      <td>22.0</td>\n",
       "      <td>1</td>\n",
       "      <td>0</td>\n",
       "      <td>7.2500</td>\n",
       "      <td>0</td>\n",
       "      <td>1</td>\n",
       "      <td>0</td>\n",
       "      <td>1</td>\n",
       "      <td>0</td>\n",
       "      <td>0</td>\n",
       "      <td>0</td>\n",
       "    </tr>\n",
       "    <tr>\n",
       "      <th>1</th>\n",
       "      <td>1</td>\n",
       "      <td>1</td>\n",
       "      <td>0</td>\n",
       "      <td>38.0</td>\n",
       "      <td>1</td>\n",
       "      <td>0</td>\n",
       "      <td>71.2833</td>\n",
       "      <td>0</td>\n",
       "      <td>0</td>\n",
       "      <td>0</td>\n",
       "      <td>0</td>\n",
       "      <td>1</td>\n",
       "      <td>0</td>\n",
       "      <td>0</td>\n",
       "    </tr>\n",
       "    <tr>\n",
       "      <th>2</th>\n",
       "      <td>1</td>\n",
       "      <td>3</td>\n",
       "      <td>0</td>\n",
       "      <td>26.0</td>\n",
       "      <td>0</td>\n",
       "      <td>0</td>\n",
       "      <td>7.9250</td>\n",
       "      <td>0</td>\n",
       "      <td>1</td>\n",
       "      <td>0</td>\n",
       "      <td>0</td>\n",
       "      <td>0</td>\n",
       "      <td>1</td>\n",
       "      <td>0</td>\n",
       "    </tr>\n",
       "  </tbody>\n",
       "</table>\n",
       "</div>"
      ],
      "text/plain": [
       "   Survived  Pclass  Sex   Age  SibSp  Parch     Fare  Embarked__Q  \\\n",
       "0         0       3    1  22.0      1      0   7.2500            0   \n",
       "1         1       1    0  38.0      1      0  71.2833            0   \n",
       "2         1       3    0  26.0      0      0   7.9250            0   \n",
       "\n",
       "   Embarked__S  Title__Master  Title__Mr  Title__Mrs  Title__Ms  Title__Sir  \n",
       "0            1              0          1           0          0           0  \n",
       "1            0              0          0           1          0           0  \n",
       "2            1              0          0           0          1           0  "
      ]
     },
     "execution_count": 64,
     "metadata": {},
     "output_type": "execute_result"
    }
   ],
   "source": [
    "print(df.shape)\n",
    "df.head(3)"
   ]
  },
  {
   "cell_type": "code",
   "execution_count": 25,
   "metadata": {},
   "outputs": [],
   "source": []
  },
  {
   "cell_type": "code",
   "execution_count": 29,
   "metadata": {},
   "outputs": [],
   "source": []
  },
  {
   "cell_type": "code",
   "execution_count": null,
   "metadata": {},
   "outputs": [],
   "source": []
  },
  {
   "cell_type": "code",
   "execution_count": null,
   "metadata": {},
   "outputs": [],
   "source": []
  }
 ],
 "metadata": {
  "kernelspec": {
   "display_name": "Python 3",
   "language": "python",
   "name": "python3"
  },
  "language_info": {
   "codemirror_mode": {
    "name": "ipython",
    "version": 3
   },
   "file_extension": ".py",
   "mimetype": "text/x-python",
   "name": "python",
   "nbconvert_exporter": "python",
   "pygments_lexer": "ipython3",
   "version": "3.7.6"
  }
 },
 "nbformat": 4,
 "nbformat_minor": 4
}
